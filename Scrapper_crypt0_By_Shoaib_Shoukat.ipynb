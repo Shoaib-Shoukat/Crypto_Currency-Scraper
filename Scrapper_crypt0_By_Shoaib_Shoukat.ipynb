{
  "nbformat": 4,
  "nbformat_minor": 0,
  "metadata": {
    "colab": {
      "provenance": []
    },
    "kernelspec": {
      "name": "python3",
      "display_name": "Python 3"
    },
    "language_info": {
      "name": "python"
    }
  },
  "cells": [
    {
      "cell_type": "markdown",
      "source": [
        "## **Code By Shoaib Shoukat**"
      ],
      "metadata": {
        "id": "dE_5St0EsZth"
      }
    },
    {
      "cell_type": "markdown",
      "source": [
        "## **Import** **Libraries**"
      ],
      "metadata": {
        "id": "OdD2fdX2qGwu"
      }
    },
    {
      "cell_type": "code",
      "source": [
        "import requests\n",
        "import pandas as pd\n",
        "from datetime import datetime, timedelta"
      ],
      "metadata": {
        "id": "kfYlEA65nNIr"
      },
      "execution_count": 18,
      "outputs": []
    },
    {
      "cell_type": "markdown",
      "source": [
        "## Crypto Want To Scrap"
      ],
      "metadata": {
        "id": "lKC66LxgqVcL"
      }
    },
    {
      "cell_type": "code",
      "source": [
        "# Currencies Name\n",
        "cryptos = [\n",
        "    {\"name\": \"Bitcoin\", \"symbol\": \"bitcoin\"},\n",
        "    {\"name\": \"Ethereum\", \"symbol\": \"ethereum\"}\n",
        "]"
      ],
      "metadata": {
        "id": "K7cbKY67o7Ll"
      },
      "execution_count": 19,
      "outputs": []
    },
    {
      "cell_type": "markdown",
      "source": [
        "## Api To Access Coins Data"
      ],
      "metadata": {
        "id": "HDjDurUcqhp1"
      }
    },
    {
      "cell_type": "code",
      "source": [
        "# CoinGecko API endpoints\n",
        "current_price_url = \"https://api.coingecko.com/api/v3/simple/price\"\n",
        "historical_data_url = \"https://api.coingecko.com/api/v3/coins/{id}/market_chart/range\"\n"
      ],
      "metadata": {
        "id": "L4jTsjsUpnnP"
      },
      "execution_count": 20,
      "outputs": []
    },
    {
      "cell_type": "markdown",
      "source": [
        "## Function to get the current price"
      ],
      "metadata": {
        "id": "uVZENEmFqsoI"
      }
    },
    {
      "cell_type": "code",
      "source": [
        "def get_current_price(crypto_symbol):\n",
        "    params = {\n",
        "        \"ids\": crypto_symbol,\n",
        "        \"vs_currencies\": \"usd\"\n",
        "    }\n",
        "    response = requests.get(current_price_url, params=params)\n",
        "    data = response.json()\n",
        "    return data.get(crypto_symbol, {}).get(\"usd\", None)"
      ],
      "metadata": {
        "id": "QwH2V_SapgIY"
      },
      "execution_count": 21,
      "outputs": []
    },
    {
      "cell_type": "markdown",
      "source": [
        "## # Function to fetch historical data for the last month"
      ],
      "metadata": {
        "id": "FqkPhhnBq8m1"
      }
    },
    {
      "cell_type": "code",
      "source": [
        "def get_historical_data(crypto_symbol):\n",
        "    end_date = datetime.now()\n",
        "    start_date = end_date - timedelta(days=30)\n",
        "\n",
        "    params = {\n",
        "        \"vs_currency\": \"usd\",\n",
        "        \"from\": int(start_date.timestamp()),\n",
        "        \"to\": int(end_date.timestamp())\n",
        "    }\n",
        "    response = requests.get(historical_data_url.format(id=crypto_symbol), params=params)\n",
        "    data = response.json()\n",
        "\n",
        "    prices = data.get(\"prices\", [])\n",
        "    # Parse the data into a readable format\n",
        "    historical_data = []\n",
        "    for p in prices:\n",
        "        timestamp = datetime.utcfromtimestamp(p[0] / 1000)\n",
        "        historical_data.append({\n",
        "            \"date\": timestamp.strftime('%Y-%m-%d'),\n",
        "            \"time\": timestamp.strftime('%H:%M:%S'),\n",
        "            \"historical_price\": p[1]\n",
        "        })\n",
        "    return historical_data\n",
        "\n",
        "# Collect data for Bitcoin and Ethereum\n",
        "all_crypto_data = []\n",
        "for crypto in cryptos:\n",
        "    print(f\"Fetching data for {crypto['name']}...\")\n",
        "    current_price = get_current_price(crypto[\"symbol\"])\n",
        "    historical_data = get_historical_data(crypto[\"symbol\"])\n",
        "\n",
        "    # Combine data with the current price, name, and symbol\n",
        "    for record in historical_data:\n",
        "        record[\"current_price\"] = current_price\n",
        "        record[\"name\"] = crypto[\"name\"]\n",
        "        record[\"symbol\"] = crypto[\"symbol\"]\n",
        "\n",
        "    all_crypto_data.extend(historical_data)\n",
        "\n"
      ],
      "metadata": {
        "colab": {
          "base_uri": "https://localhost:8080/"
        },
        "id": "JGgRRjfcpEM3",
        "outputId": "22c0ab6e-4c84-4bbc-eca2-0e2d76c8df23"
      },
      "execution_count": 22,
      "outputs": [
        {
          "output_type": "stream",
          "name": "stdout",
          "text": [
            "Fetching data for Bitcoin...\n",
            "Fetching data for Ethereum...\n"
          ]
        }
      ]
    },
    {
      "cell_type": "markdown",
      "source": [
        "## Convert And Save The Data"
      ],
      "metadata": {
        "id": "mpR96UwurFFS"
      }
    },
    {
      "cell_type": "code",
      "source": [
        "# Convert the collected data into a DataFrame\n",
        "df = pd.DataFrame(all_crypto_data)\n",
        "\n",
        "# Ensure columns are ordered properly\n",
        "df = df[[\"date\", \"time\", 'name', \"symbol\", \"current_price\", \"historical_price\"]]\n",
        "\n",
        "# Display the first few rows\n",
        "print(df.head())\n",
        "\n",
        "# Save the DataFrame to a CSV file\n",
        "df.to_csv(\"bitcoin_ethereum_monthly_data.csv\", index=False)\n",
        "print(\"Data saved to bitcoin_ethereum_monthly_data.csv\")\n"
      ],
      "metadata": {
        "colab": {
          "base_uri": "https://localhost:8080/"
        },
        "id": "rQhFOepPp3ek",
        "outputId": "0da1524e-887d-4a6b-be07-5900795923b7"
      },
      "execution_count": 23,
      "outputs": [
        {
          "output_type": "stream",
          "name": "stdout",
          "text": [
            "         date      time     name   symbol  current_price  historical_price\n",
            "0  2024-11-01  15:14:56  Bitcoin  bitcoin        97255.0      70923.828013\n",
            "1  2024-11-01  16:06:16  Bitcoin  bitcoin        97255.0      69345.353725\n",
            "2  2024-11-01  17:02:35  Bitcoin  bitcoin        97255.0      69844.909336\n",
            "3  2024-11-01  18:09:23  Bitcoin  bitcoin        97255.0      69503.663605\n",
            "4  2024-11-01  19:21:28  Bitcoin  bitcoin        97255.0      69020.890997\n",
            "Data saved to bitcoin_ethereum_monthly_data.csv\n"
          ]
        }
      ]
    }
  ]
}